{
 "cells": [
  {
   "cell_type": "code",
   "execution_count": 81,
   "metadata": {},
   "outputs": [
    {
     "name": "stdout",
     "output_type": "stream",
     "text": [
      "A: mean = -0.0012858194531335581 and standard deviation = 0.9981778898376003\n",
      "B: mean = 0.0015639577496857288 and standard deviation = 0.9996867988952685\n",
      "652 of the 100000 data points are \"high scorers\"\n",
      "\n",
      "Correlation of A and B in the combined sampling is 0.6237448974480577\n",
      "Within the low-score group the correlation is 0.1328601239723331\n",
      "Within the high-score group the correlation is 0.10762757997504199\n",
      "Within the \"entire population\" (n = 100000) the correlation is 0.004124790904024621\n"
     ]
    }
   ],
   "source": [
    "import pandas as pd\n",
    "import numpy as np\n",
    "\n",
    "# The two metrics' scores\n",
    "A = pd.Series(np.random.randn(100000))\n",
    "B = pd.Series(np.random.randn(100000))\n",
    "\n",
    "# Data points that score high on both metrics\n",
    "High = pd.Series(A>1.5) & (B>1.3)\n",
    "num_High = sum(High)\n",
    "df = pd.DataFrame({\"A\":A,\"B\":B,\"H\":High})\n",
    "\n",
    "# Sampling our two groups\n",
    "lowsample = df[df.H == False].sample(n=80)\n",
    "highsample = df[df.H == True].sample(n=80)\n",
    "combined = pd.concat([lowsample, highsample])\n",
    "\n",
    "def ABcorr(df):\n",
    "    return df.corr().loc[\"A\",\"B\"]\n",
    "\n",
    "print(\"A: mean = {} and standard deviation = {}\".format(A.mean(), A.std()))\n",
    "print(\"B: mean = {} and standard deviation = {}\".format(B.mean(), B.std()))\n",
    "print('{} of the 100000 data points are \"high scorers\"'.format(num_High))\n",
    "print()\n",
    "print(\"Correlation of A and B in the combined sampling is {}\".format(ABcorr(combined)))\n",
    "print(\"Within the low-score group the correlation is {}\".format(ABcorr(lowsample)))\n",
    "print(\"Within the high-score group the correlation is {}\".format(ABcorr(highsample)))\n",
    "print(\"Within the \\\"entire population\\\" (n = 100000) the correlation is {}\".format(ABcorr(df)))\n"
   ]
  },
  {
   "cell_type": "code",
   "execution_count": 71,
   "metadata": {},
   "outputs": [
    {
     "data": {
      "text/plain": [
       "-0.0028275014652887121"
      ]
     },
     "execution_count": 71,
     "metadata": {},
     "output_type": "execute_result"
    }
   ],
   "source": [
    "df.corr().loc[\"A\",\"B\"]"
   ]
  },
  {
   "cell_type": "code",
   "execution_count": 21,
   "metadata": {},
   "outputs": [],
   "source": [
    "#population = \n",
    "\n"
   ]
  },
  {
   "cell_type": "code",
   "execution_count": 30,
   "metadata": {},
   "outputs": [],
   "source": [
    "\n",
    "#df"
   ]
  },
  {
   "cell_type": "code",
   "execution_count": 34,
   "metadata": {},
   "outputs": [],
   "source": []
  },
  {
   "cell_type": "code",
   "execution_count": 43,
   "metadata": {},
   "outputs": [],
   "source": []
  },
  {
   "cell_type": "code",
   "execution_count": 65,
   "metadata": {},
   "outputs": [
    {
     "name": "stdout",
     "output_type": "stream",
     "text": [
      "0.566892699741\n",
      "-0.0581722568205\n",
      "-0.12683361675\n"
     ]
    }
   ],
   "source": []
  },
  {
   "cell_type": "code",
   "execution_count": 64,
   "metadata": {},
   "outputs": [
    {
     "data": {
      "text/plain": [
       "-0.12683361674988233"
      ]
     },
     "execution_count": 64,
     "metadata": {},
     "output_type": "execute_result"
    }
   ],
   "source": [
    "highsample.corr().loc[\"A\",\"B\"]"
   ]
  },
  {
   "cell_type": "code",
   "execution_count": 19,
   "metadata": {},
   "outputs": [
    {
     "data": {
      "text/plain": [
       "655"
      ]
     },
     "execution_count": 19,
     "metadata": {},
     "output_type": "execute_result"
    }
   ],
   "source": [
    "sum((A>1.5) & (B>1.3))"
   ]
  },
  {
   "cell_type": "code",
   "execution_count": 25,
   "metadata": {},
   "outputs": [
    {
     "data": {
      "text/plain": [
       "count     100000\n",
       "unique         2\n",
       "top        False\n",
       "freq       99357\n",
       "dtype: object"
      ]
     },
     "execution_count": 25,
     "metadata": {},
     "output_type": "execute_result"
    }
   ],
   "source": [
    "High.describe()"
   ]
  },
  {
   "cell_type": "code",
   "execution_count": null,
   "metadata": {
    "collapsed": true
   },
   "outputs": [],
   "source": []
  }
 ],
 "metadata": {
  "kernelspec": {
   "display_name": "Python 3",
   "language": "python",
   "name": "python3"
  },
  "language_info": {
   "codemirror_mode": {
    "name": "ipython",
    "version": 3
   },
   "file_extension": ".py",
   "mimetype": "text/x-python",
   "name": "python",
   "nbconvert_exporter": "python",
   "pygments_lexer": "ipython3",
   "version": "3.4.5"
  }
 },
 "nbformat": 4,
 "nbformat_minor": 2
}
